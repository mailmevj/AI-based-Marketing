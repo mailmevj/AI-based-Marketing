{
 "cells": [
  {
   "cell_type": "code",
   "execution_count": 1,
   "metadata": {},
   "outputs": [
    {
     "name": "stderr",
     "output_type": "stream",
     "text": [
      "Using TensorFlow backend.\n"
     ]
    }
   ],
   "source": [
    "import tensorflow as tf\n",
    "import keras \n",
    "from keras.models import Sequential\n",
    "from keras.layers import Dense,Flatten,Dropout\n",
    "from keras.layers.convolutional import Conv2D,MaxPooling2D\n",
    "from keras.preprocessing.image import ImageDataGenerator ,load_img\n",
    "from keras.layers.normalization import BatchNormalization"
   ]
  },
  {
   "cell_type": "code",
   "execution_count": 2,
   "metadata": {},
   "outputs": [],
   "source": [
    "import numpy as np\n",
    "import pandas as pd\n",
    "import matplotlib.pyplot as plt\n",
    "import random\n",
    "from sklearn.model_selection import train_test_split"
   ]
  },
  {
   "cell_type": "code",
   "execution_count": 3,
   "metadata": {},
   "outputs": [],
   "source": [
    "#Importing Data from CSV file\n",
    "data=pd.read_csv(\"fer2013.csv\")"
   ]
  },
  {
   "cell_type": "code",
   "execution_count": 4,
   "metadata": {},
   "outputs": [],
   "source": [
    "labels=data.iloc[:,[0]].values"
   ]
  },
  {
   "cell_type": "code",
   "execution_count": 5,
   "metadata": {},
   "outputs": [],
   "source": [
    "pixels=data['pixels']"
   ]
  },
  {
   "cell_type": "code",
   "execution_count": 6,
   "metadata": {},
   "outputs": [],
   "source": [
    "#Facial Expressions\n",
    "Expressions={0:\"Angry\",1:\"Disgust\",2:\"Fear\",3:\"Happy\",4:\"Sad\",5:\"Surprise\",6:\"Neutral\"}\n",
    "from keras.utils import to_categorical \n",
    "labels = to_categorical(labels,len(Expressions))"
   ]
  },
  {
   "cell_type": "code",
   "execution_count": 7,
   "metadata": {},
   "outputs": [],
   "source": [
    "#converting pixels to Gray Scale images of 48X48 \n",
    "images = np.array([np.fromstring(pixel, dtype=int, sep=\" \")for pixel in pixels])\n",
    "images=images/255.0\n",
    "images = images.reshape(images.shape[0],48,48,1).astype('float32')"
   ]
  },
  {
   "cell_type": "code",
   "execution_count": 8,
   "metadata": {},
   "outputs": [
    {
     "data": {
      "text/plain": [
       "'Disgust'"
      ]
     },
     "execution_count": 8,
     "metadata": {},
     "output_type": "execute_result"
    },
    {
     "data": {
      "image/png": "[encoded data removed]",
      "text/plain": [
       "<Figure size 432x288 with 1 Axes>"
      ]
     },
     "metadata": {
      "needs_background": "light"
     },
     "output_type": "display_data"
    }
   ],
   "source": [
    "plt.imshow(images[0][:,:,0])\n",
    "Expressions[labels[0][0]]"
   ]
  },
  {
   "cell_type": "code",
   "execution_count": 9,
   "metadata": {},
   "outputs": [],
   "source": [
    "#splitting data into training and test data\n",
    "train_images,test_images,train_labels,test_labels = train_test_split(images,labels,test_size=0.2,random_state=0)"
   ]
  },
  {
   "cell_type": "code",
   "execution_count": 10,
   "metadata": {},
   "outputs": [
    {
     "data": {
      "text/plain": [
       "array([[0., 0., 1., ..., 0., 0., 0.],\n",
       "       [0., 0., 0., ..., 1., 0., 0.],\n",
       "       [0., 0., 0., ..., 1., 0., 0.],\n",
       "       ...,\n",
       "       [0., 0., 0., ..., 0., 0., 0.],\n",
       "       [0., 0., 0., ..., 1., 0., 0.],\n",
       "       [0., 1., 0., ..., 0., 0., 0.]], dtype=float32)"
      ]
     },
     "execution_count": 10,
     "metadata": {},
     "output_type": "execute_result"
    }
   ],
   "source": [
    "train_labels"
   ]
  },
  {
   "cell_type": "code",
   "execution_count": 11,
   "metadata": {},
   "outputs": [],
   "source": [
    "def create_convolutional_model(classes):\n",
    "    model = Sequential()\n",
    "    model.add(Conv2D(32,kernel_size=(2,2),strides=(1,1),activation='relu',input_shape=(48,48,1)))\n",
    "    model.add(BatchNormalization())\n",
    "    model.add(MaxPooling2D(pool_size=(2,2),strides=(2,2)))\n",
    "    model.add(Dropout(0.25))\n",
    "    \n",
    "    model.add(Conv2D(filters=64,kernel_size=(2,2),strides=(1,1),activation='relu'))\n",
    "    model.add(BatchNormalization())\n",
    "    model.add(MaxPooling2D(pool_size=(2,2),strides=(1,1)))\n",
    "    model.add(Dropout(0.25))#to prevent neural network from overfitting\n",
    "    \n",
    "    model.add(Conv2D(filters=128,kernel_size=(2,2),strides=(1,1),activation='relu'))\n",
    "    model.add(BatchNormalization())\n",
    "    model.add(MaxPooling2D(pool_size=(2,2),strides=(1,1)))\n",
    "    model.add(Dropout(0.25))\n",
    "    \n",
    "    model.add(Conv2D(filters=256,kernel_size=(2,2),strides=(1,1),activation='relu'))\n",
    "    model.add(BatchNormalization())\n",
    "    model.add(MaxPooling2D(pool_size=(2,2),strides=(1,1)))\n",
    "    model.add(Dropout(0.25))\n",
    "    \n",
    "    model.add(Flatten())\n",
    "    \n",
    "    model.add(Dense(256,activation='relu'))\n",
    "    model.add(BatchNormalization())\n",
    "    model.add(Dropout(0.25))\n",
    "    \n",
    "    model.add(Dense(512,activation='relu'))\n",
    "    model.add(BatchNormalization())\n",
    "    model.add(Dropout(0.25))\n",
    "    \n",
    "    model.add(Dense(classes,activation='softmax'))\n",
    "    \n",
    "    \n",
    "    model.compile(optimizer='adam', loss='categorical_crossentropy', metrics=['accuracy'])\n",
    "    \n",
    "    return model "
   ]
  },
  {
   "cell_type": "code",
   "execution_count": 12,
   "metadata": {},
   "outputs": [
    {
     "name": "stdout",
     "output_type": "stream",
     "text": [
      "WARNING:tensorflow:From C:\\Users\\Guna\\Anaconda3\\lib\\site-packages\\tensorflow\\python\\framework\\op_def_library.py:263: colocate_with (from tensorflow.python.framework.ops) is deprecated and will be removed in a future version.\n",
      "Instructions for updating:\n",
      "Colocations handled automatically by placer.\n",
      "WARNING:tensorflow:From C:\\Users\\Guna\\Anaconda3\\lib\\site-packages\\keras\\backend\\tensorflow_backend.py:3445: calling dropout (from tensorflow.python.ops.nn_ops) with keep_prob is deprecated and will be removed in a future version.\n",
      "Instructions for updating:\n",
      "Please use `rate` instead of `keep_prob`. Rate should be set to `rate = 1 - keep_prob`.\n",
      "_________________________________________________________________\n",
      "Layer (type)                 Output Shape              Param #   \n",
      "=================================================================\n",
      "conv2d_1 (Conv2D)            (None, 47, 47, 32)        160       \n",
      "_________________________________________________________________\n",
      "batch_normalization_1 (Batch (None, 47, 47, 32)        128       \n",
      "_________________________________________________________________\n",
      "max_pooling2d_1 (MaxPooling2 (None, 23, 23, 32)        0         \n",
      "_________________________________________________________________\n",
      "dropout_1 (Dropout)          (None, 23, 23, 32)        0         \n",
      "_________________________________________________________________\n",
      "conv2d_2 (Conv2D)            (None, 22, 22, 64)        8256      \n",
      "_________________________________________________________________\n",
      "batch_normalization_2 (Batch (None, 22, 22, 64)        256       \n",
      "_________________________________________________________________\n",
      "max_pooling2d_2 (MaxPooling2 (None, 21, 21, 64)        0         \n",
      "_________________________________________________________________\n",
      "dropout_2 (Dropout)          (None, 21, 21, 64)        0         \n",
      "_________________________________________________________________\n",
      "conv2d_3 (Conv2D)            (None, 20, 20, 128)       32896     \n",
      "_________________________________________________________________\n",
      "batch_normalization_3 (Batch (None, 20, 20, 128)       512       \n",
      "_________________________________________________________________\n",
      "max_pooling2d_3 (MaxPooling2 (None, 19, 19, 128)       0         \n",
      "_________________________________________________________________\n",
      "dropout_3 (Dropout)          (None, 19, 19, 128)       0         \n",
      "_________________________________________________________________\n",
      "conv2d_4 (Conv2D)            (None, 18, 18, 256)       131328    \n",
      "_________________________________________________________________\n",
      "batch_normalization_4 (Batch (None, 18, 18, 256)       1024      \n",
      "_________________________________________________________________\n",
      "max_pooling2d_4 (MaxPooling2 (None, 17, 17, 256)       0         \n",
      "_________________________________________________________________\n",
      "dropout_4 (Dropout)          (None, 17, 17, 256)       0         \n",
      "_________________________________________________________________\n",
      "flatten_1 (Flatten)          (None, 73984)             0         \n",
      "_________________________________________________________________\n",
      "dense_1 (Dense)              (None, 256)               18940160  \n",
      "_________________________________________________________________\n",
      "batch_normalization_5 (Batch (None, 256)               1024      \n",
      "_________________________________________________________________\n",
      "dropout_5 (Dropout)          (None, 256)               0         \n",
      "_________________________________________________________________\n",
      "dense_2 (Dense)              (None, 512)               131584    \n",
      "_________________________________________________________________\n",
      "batch_normalization_6 (Batch (None, 512)               2048      \n",
      "_________________________________________________________________\n",
      "dropout_6 (Dropout)          (None, 512)               0         \n",
      "_________________________________________________________________\n",
      "dense_3 (Dense)              (None, 7)                 3591      \n",
      "=================================================================\n",
      "Total params: 19,252,967\n",
      "Trainable params: 19,250,471\n",
      "Non-trainable params: 2,496\n",
      "_________________________________________________________________\n"
     ]
    }
   ],
   "source": [
    "classes=7\n",
    "model = create_convolutional_model(classes)\n",
    "model.summary()"
   ]
  },
  {
   "cell_type": "code",
   "execution_count": 13,
   "metadata": {},
   "outputs": [
    {
     "name": "stdout",
     "output_type": "stream",
     "text": [
      "WARNING:tensorflow:From C:\\Users\\Guna\\Anaconda3\\lib\\site-packages\\tensorflow\\python\\ops\\math_ops.py:3066: to_int32 (from tensorflow.python.ops.math_ops) is deprecated and will be removed in a future version.\n",
      "Instructions for updating:\n",
      "Use tf.cast instead.\n",
      "Epoch 1/30\n",
      " - 2053s - loss: 1.8326 - acc: 0.3459\n",
      "Epoch 2/30\n",
      " - 2998s - loss: 1.4687 - acc: 0.4505\n",
      "Epoch 3/30\n",
      " - 3460s - loss: 1.2991 - acc: 0.5048\n",
      "Epoch 4/30\n",
      " - 5790s - loss: 1.1877 - acc: 0.5484\n",
      "Epoch 5/30\n",
      " - 2138s - loss: 1.1117 - acc: 0.5762\n",
      "Epoch 6/30\n",
      " - 2033s - loss: 1.0390 - acc: 0.6090\n",
      "Epoch 7/30\n",
      " - 6710s - loss: 0.9691 - acc: 0.6364\n",
      "Epoch 8/30\n",
      " - 1943s - loss: 0.8969 - acc: 0.6648\n",
      "Epoch 9/30\n",
      " - 1958s - loss: 0.8366 - acc: 0.6904\n",
      "Epoch 10/30\n",
      " - 1977s - loss: 0.7363 - acc: 0.7272\n",
      "Epoch 11/30\n",
      " - 2072s - loss: 0.6457 - acc: 0.7639\n",
      "Epoch 12/30\n",
      " - 1956s - loss: 0.5637 - acc: 0.7938\n",
      "Epoch 13/30\n",
      " - 1950s - loss: 0.4886 - acc: 0.8209\n",
      "Epoch 14/30\n",
      " - 1890s - loss: 0.4206 - acc: 0.8475\n",
      "Epoch 15/30\n",
      " - 1936s - loss: 0.3718 - acc: 0.8662\n",
      "Epoch 16/30\n",
      " - 1909s - loss: 0.3247 - acc: 0.8845\n",
      "Epoch 17/30\n",
      " - 1908s - loss: 0.2988 - acc: 0.8945\n",
      "Epoch 18/30\n",
      " - 1906s - loss: 0.2765 - acc: 0.9002\n",
      "Epoch 19/30\n",
      " - 1899s - loss: 0.2853 - acc: 0.9018\n",
      "Epoch 20/30\n",
      " - 1904s - loss: 0.2247 - acc: 0.9208\n",
      "Epoch 21/30\n",
      " - 1894s - loss: 0.2097 - acc: 0.9278\n",
      "Epoch 22/30\n",
      " - 1897s - loss: 0.2038 - acc: 0.9278\n",
      "Epoch 23/30\n",
      " - 1895s - loss: 0.1787 - acc: 0.9356\n",
      "Epoch 24/30\n",
      " - 13296s - loss: 0.1795 - acc: 0.9367\n",
      "Epoch 25/30\n",
      " - 1926s - loss: 0.1708 - acc: 0.9399\n",
      "Epoch 26/30\n",
      " - 1910s - loss: 0.1642 - acc: 0.9426\n",
      "Epoch 27/30\n",
      " - 1902s - loss: 0.1469 - acc: 0.9487\n",
      "Epoch 28/30\n",
      " - 1891s - loss: 0.1375 - acc: 0.9523\n",
      "Epoch 29/30\n",
      " - 1953s - loss: 0.1403 - acc: 0.9515\n",
      "Epoch 30/30\n",
      " - 2015s - loss: 0.1438 - acc: 0.9495\n"
     ]
    },
    {
     "data": {
      "text/plain": [
       "<keras.callbacks.History at 0x186338db7f0>"
      ]
     },
     "execution_count": 13,
     "metadata": {},
     "output_type": "execute_result"
    }
   ],
   "source": [
    "#train the CNN \n",
    "model.fit(train_images,train_labels,batch_size=105,epochs=30,verbose=2)"
   ]
  },
  {
   "cell_type": "code",
   "execution_count": 14,
   "metadata": {},
   "outputs": [],
   "source": [
    "label_pred=model.predict(test_images)\n",
    "label_pred=np.argmax(label_pred,axis = 1)"
   ]
  },
  {
   "cell_type": "code",
   "execution_count": 15,
   "metadata": {},
   "outputs": [
    {
     "name": "stdout",
     "output_type": "stream",
     "text": [
      "Normalized confusion matrix\n",
      "[[0.56503642 0.00416233 0.07284079 0.08844953 0.15712799 0.02289282\n",
      "  0.08949011]\n",
      " [0.29245283 0.44339623 0.0754717  0.         0.11320755 0.02830189\n",
      "  0.04716981]\n",
      " [0.1640159  0.00099404 0.35884692 0.05765408 0.22166998 0.08548708\n",
      "  0.11133201]\n",
      " [0.02830702 0.         0.01796407 0.82471421 0.06260207 0.01197605\n",
      "  0.05443658]\n",
      " [0.14036479 0.00237906 0.09278351 0.07137193 0.53846154 0.00951626\n",
      "  0.14512292]\n",
      " [0.04255319 0.         0.05757196 0.07509387 0.03629537 0.74217772\n",
      "  0.04630788]\n",
      " [0.12582781 0.00165563 0.06043046 0.08195364 0.19619205 0.01076159\n",
      "  0.52317881]]\n"
     ]
    },
    {
     "data": {
      "image/png": "[encoded data removed]",
      "text/plain": [
       "<Figure size 432x288 with 2 Axes>"
      ]
     },
     "metadata": {
      "needs_background": "light"
     },
     "output_type": "display_data"
    }
   ],
   "source": [
    "#making confusion matrix\n",
    "import itertools\n",
    "from sklearn.metrics import confusion_matrix\n",
    "\n",
    "def plot_confusion_matrix(cm, classes,\n",
    "                          normalize=False,\n",
    "                          title='Confusion matrix',\n",
    "                          cmap=plt.cm.Blues):\n",
    "    \"\"\"\n",
    "    This function prints and plots the confusion matrix.\n",
    "    Normalization can be applied by setting `normalize=True`.\n",
    "    \"\"\"\n",
    "    if normalize:\n",
    "        cm = cm.astype('float') / cm.sum(axis=1)[:, np.newaxis]\n",
    "        print(\"Normalized confusion matrix\")\n",
    "    else:\n",
    "        print('Confusion matrix, without normalization')\n",
    "\n",
    "    print(cm)\n",
    "\n",
    "    plt.imshow(cm, interpolation='nearest', cmap=cmap)\n",
    "    plt.title(title)\n",
    "    plt.colorbar()\n",
    "    tick_marks = np.arange(len(classes))\n",
    "    plt.xticks(tick_marks, classes, rotation=45)\n",
    "    plt.yticks(tick_marks, classes)\n",
    "\n",
    "    fmt = '.2f' if normalize else 'd'\n",
    "    thresh = cm.max() / 2.\n",
    "    for i, j in itertools.product(range(cm.shape[0]), range(cm.shape[1])):\n",
    "        plt.text(j, i, format(cm[i, j], fmt),\n",
    "                 horizontalalignment=\"center\",\n",
    "                 color=\"white\" if cm[i, j] > thresh else \"black\")\n",
    "\n",
    "    plt.ylabel('True label')\n",
    "    plt.xlabel('Predicted label')\n",
    "    plt.tight_layout()\n",
    "\n",
    "test_labels=np.argmax(test_labels,axis=1)\n",
    "# Compute confusion matrix\n",
    "cnf_matrix = confusion_matrix(test_labels,label_pred)\n",
    "class_names=Expressions\n",
    "# Plot normalized confusion matrix\n",
    "plt.figure()\n",
    "plot_confusion_matrix(cnf_matrix, classes=class_names, normalize=True,\n",
    "                      title='Normalized confusion matrix')\n",
    "\n",
    "plt.show()"
   ]
  },
  {
   "cell_type": "code",
   "execution_count": 16,
   "metadata": {},
   "outputs": [],
   "source": [
    "#Save the weights\n",
    "filename='model_weights.hdf5'\n",
    "model.save_weights(filename,overwrite=True)"
   ]
  },
  {
   "cell_type": "code",
   "execution_count": 17,
   "metadata": {},
   "outputs": [],
   "source": [
    "#Save the weights\n",
    "filename='model_weights.hdf5'\n",
    "model.load_weights(filename)"
   ]
  },
  {
   "cell_type": "code",
   "execution_count": 18,
   "metadata": {},
   "outputs": [],
   "source": [
    "import cv2\n",
    "def make_prediction(unknown):\n",
    "    unknown=cv2.resize(unknown,(48,48))\n",
    "    unknown=unknown/255.0\n",
    "    unknown=np.array(unknown).reshape(-1,48,48,1)\n",
    "    predict=np.argmax(model.predict(unknown),axis = 1)\n",
    "    return predict[0]  "
   ]
  },
  {
   "cell_type": "code",
   "execution_count": 19,
   "metadata": {},
   "outputs": [],
   "source": [
    "def face_in_video():\n",
    "    face_cascade = cv2.CascadeClassifier(\"cascades\\data\\haarcascade_frontalface_default.xml\")\n",
    "    cap=cv2.VideoCapture(0)\n",
    "    while True:\n",
    "        ret,img=cap.read()  \n",
    "        gray = cv2.cvtColor(img,cv2.COLOR_BGR2GRAY)\n",
    "        faces = face_cascade.detectMultiScale(gray,1.3,5)\n",
    "        \n",
    "        for (x,y,w,h) in faces:\n",
    "            sub_face = gray[y:y+h, x:x+w]\n",
    "            cv2.rectangle(img,(x,y),(x+w,y+h),(255,0,0),2)\n",
    "            res=make_prediction(sub_face)\n",
    "            font = cv2.FONT_HERSHEY_SIMPLEX\n",
    "            cv2.putText(img,str(Expressions[res]),(x,y-5),font,0.5,(205,200,50),1,cv2.LINE_AA)\n",
    "        cv2.imshow('img',img)\n",
    "        if cv2.waitKey(1) & 0xFF ==ord('q'):\n",
    "            break\n",
    "    cap.release()\n",
    "    cv2.destroyAllWindows()  "
   ]
  },
  {
   "cell_type": "code",
   "execution_count": 36,
   "metadata": {},
   "outputs": [],
   "source": [
    "face_in_video()"
   ]
  },
  {
   "cell_type": "code",
   "execution_count": null,
   "metadata": {},
   "outputs": [],
   "source": []
  }
 ],
 "metadata": {
  "kernelspec": {
   "display_name": "Python 3",
   "language": "python",
   "name": "python3"
  },
  "language_info": {
   "codemirror_mode": {
    "name": "ipython",
    "version": 3
   },
   "file_extension": ".py",
   "mimetype": "text/x-python",
   "name": "python",
   "nbconvert_exporter": "python",
   "pygments_lexer": "ipython3",
   "version": "3.7.3"
  }
 },
 "nbformat": 4,
 "nbformat_minor": 2
}
